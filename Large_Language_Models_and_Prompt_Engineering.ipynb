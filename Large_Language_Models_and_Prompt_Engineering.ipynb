{
  "cells": [
    {
      "cell_type": "markdown",
      "metadata": {
        "id": "ZPSPXFT-tRME"
      },
      "source": [
        "# Agenda\n",
        "\n",
        "- What is Large Language Model?\n",
        "- How does Large Language Models work?\n",
        "- What are the use cases of LLMs?\n",
        "- How to use LLMs effectively? (Prompt Engineering)\n",
        "- How to make LLms smarter?\n",
        "    - Give me more information (RAG)\n",
        "    - Train it more (fine-tuning)"
      ]
    },
    {
      "cell_type": "markdown",
      "metadata": {
        "id": "ZHoQ67sgug2b"
      },
      "source": [
        "# What is Large Language Model?"
      ]
    },
    {
      "cell_type": "markdown",
      "metadata": {
        "id": "zSaunicZwKot"
      },
      "source": [
        "- The core task of the language model is next word prediction. Given a sequence of input words, the neural network predicts the probability distribution of what the next word will be.\n",
        "\n",
        "- Think of it like iPhone keyboard autocomplete\n",
        "\n",
        "- Web data (10TB) -> Training on 6k GPUs for 12 days (~$2M) -> ~140GB file\n",
        "\n",
        "- Compressing the Internet into a small file (~100x smaller)"
      ]
    },
    {
      "cell_type": "markdown",
      "metadata": {
        "id": "9Z0Eb7sAwBMT"
      },
      "source": [
        "# How do Large Language Models work?"
      ]
    },
    {
      "cell_type": "markdown",
      "metadata": {
        "id": "I4CvtjDcwO9e"
      },
      "source": [
        "- A large neural network with billions of parameters (knobs)\n",
        "- We can measure the output, and turn the knobs to optimize performance.\n",
        "- We don't fully understand how the knobs work (blockbox)\n",
        "- Give it a prompt, and it will \"dream\" the rest of the texts"
      ]
    },
    {
      "cell_type": "markdown",
      "metadata": {
        "id": "NMa68vC00yGf"
      },
      "source": [
        "# What are the use cases of LLMs?"
      ]
    },
    {
      "cell_type": "markdown",
      "metadata": {
        "id": "iZdON5la01kj"
      },
      "source": [
        "- NLP tasks\n",
        "    - Text generation\n",
        "    - Classification\n",
        "    - Summarization\n",
        "    - Name-Entity-Recognition\n",
        "    - Question-Answering\n",
        "    - Translation\n",
        "- Higher level tasks\n",
        "    - Research\n",
        "    - Assistants"
      ]
    },
    {
      "cell_type": "markdown",
      "metadata": {
        "id": "F7ukX_-U3JAS"
      },
      "source": [
        "# Why and why not LLMs"
      ]
    },
    {
      "cell_type": "markdown",
      "metadata": {
        "id": "o1HgJRMm3L8B"
      },
      "source": [
        "## Advantages and Disadvantages"
      ]
    },
    {
      "cell_type": "markdown",
      "metadata": {
        "id": "0RsyCNgc4D6P"
      },
      "source": [
        "### Advantages\n",
        "\n",
        "- Versatility\n",
        "- Ability to learn new tasks\n",
        "- Large knowledge\n",
        "- Strong performance\n",
        "\n",
        "### Disadvantages\n",
        "\n",
        "- Lack of true understanding\n",
        "- Hallucination and inconsistency\n",
        "- Bias and fairness issues\n",
        "- Lack of grounding\n",
        "- Difficulty with reasoning\n",
        "- Opaque decision-making\n",
        "- Computational cost\n",
        "- Privacy and security"
      ]
    },
    {
      "cell_type": "markdown",
      "metadata": {
        "id": "ZD6VFLgI4IVC"
      },
      "source": [
        "## When to use and not to use LLMs"
      ]
    },
    {
      "cell_type": "markdown",
      "metadata": {
        "id": "fADQwz0w4yzK"
      },
      "source": [
        "### When to use LLMs\n",
        "\n",
        "- Creative writing\n",
        "- NLP tasks\n",
        "    - Classification\n",
        "    - Summarization\n",
        "    - Name-Entity-Recognition\n",
        "    - Question-Answering\n",
        "    - Translation\n",
        "\n",
        "### When not to use LLMs\n",
        "\n",
        "- Math\n",
        "- Logic reasoning\n",
        "- Ground truth critical tasks"
      ]
    },
    {
      "cell_type": "markdown",
      "metadata": {
        "id": "4bYSvgYP5MKS"
      },
      "source": [
        "# How to use LLMs effectively? (Prompt Engineering)\n",
        "\n",
        "Try all of the following prompting techniques using `OpenAI` or `Gemini` API"
      ]
    },
    {
      "cell_type": "code",
      "execution_count": 6,
      "metadata": {
        "id": "kGnLcWyTFo9R"
      },
      "outputs": [],
      "source": [
        "import getpass\n",
        "\n",
        "import google.generativeai as genai\n",
        "\n",
        "GOOGLE_API_KEY = getpass.getpass()\n",
        "genai.configure(api_key=GOOGLE_API_KEY)"
      ]
    },
    {
      "cell_type": "code",
      "execution_count": 7,
      "metadata": {
        "id": "HtLbXTfQJJ4R"
      },
      "outputs": [],
      "source": [
        "model = genai.GenerativeModel('gemini-pro')"
      ]
    },
    {
      "cell_type": "code",
      "execution_count": 8,
      "metadata": {
        "id": "KVE86s9PJPc-"
      },
      "outputs": [],
      "source": [
        "def gen_content(prompt):\n",
        "    response = model.generate_content(prompt)\n",
        "    print(response.text)"
      ]
    },
    {
      "cell_type": "markdown",
      "metadata": {
        "id": "hDGHQNqa6ZW1"
      },
      "source": [
        "## Six strategies for getting better results\n",
        "\n",
        "- Write clear instructions\n",
        "- Provide reference text\n",
        "- Split complex tasks into simpler subtasks\n",
        "- Give the model time to \"think\"\n",
        "- Use external tools\n",
        "- Test changes systematically\n",
        "\n",
        "source: [OpenAI Prompt Engineering Guide](https://platform.openai.com/docs/guides/prompt-engineering/strategy-write-clear-instructions)"
      ]
    },
    {
      "cell_type": "markdown",
      "metadata": {
        "id": "-8ZZsDbP60FG"
      },
      "source": [
        "### Write clear instructions"
      ]
    },
    {
      "cell_type": "code",
      "execution_count": 9,
      "metadata": {
        "colab": {
          "base_uri": "https://localhost:8080/",
          "height": 170
        },
        "id": "YfjFYH2tJ2Zn",
        "outputId": "2c2a7adc-b3e6-4abd-b9f4-ac98c7ca1243"
      },
      "outputs": [
        {
          "name": "stdout",
          "output_type": "stream",
          "text": [
            "What do you call a fish with no eyes?\n",
            "\n",
            "Fsh!\n",
            "---------------\n",
            "Ahoy there! Why did the Python code get lost in the seven seas? 🌊⚓️\n",
            "\n",
            "Because it couldn't find its \"ARR-guments!\" 😅🦜\n"
          ]
        }
      ],
      "source": [
        "# More detailed prompts\n",
        "prompt1 = \"Tell me a joke\"\n",
        "\n",
        "prompt2 = \"Tell me a joke about Python. Please wirte it in a pirate like language. Include funny emojis\"\n",
        "\n",
        "gen_content(prompt1)\n",
        "print('---------------')\n",
        "gen_content(prompt2)"
      ]
    },
    {
      "cell_type": "code",
      "execution_count": 15,
      "metadata": {
        "colab": {
          "base_uri": "https://localhost:8080/",
          "height": 527
        },
        "id": "bi6GTG6OKPHu",
        "outputId": "0a7cdba0-c0ef-4138-fedf-2bd70d403e97"
      },
      "outputs": [
        {
          "name": "stdout",
          "output_type": "stream",
          "text": [
            "```\n",
            "import cv2\n",
            "import numpy as np\n",
            "from sklearn.model_selection import train_test_split\n",
            "from sklearn.svm import SVC\n",
            "\n",
            "# Load the image data\n",
            "image_data = cv2.imread('cloud_images.jpg')\n",
            "\n",
            "# Preprocess the image data\n",
            "gray_image = cv2.cvtColor(image_data, cv2.COLOR_BGR2GRAY)\n",
            "blurred_image = cv2.GaussianBlur(gray_image, (5, 5), 0)\n",
            "edges_image = cv2.Canny(blurred_image, 100, 200)\n",
            "\n",
            "# Extract features from the image data\n",
            "features = np.array([])\n",
            "for row in edges_image:\n",
            "    for pixel in row:\n",
            "        features = np.append(features, pixel)\n",
            "\n",
            "# Split the data into training and testing sets\n",
            "X_train, X_test, y_train, y_test = train_test_split(features, labels, test_size=0.25)\n",
            "\n",
            "# Train the machine learning model\n",
            "model = SVC()\n",
            "model.fit(X_train, y_train)\n",
            "\n",
            "# Evaluate the model\n",
            "accuracy = model.score(X_test, y_test)\n",
            "print('Accuracy:', accuracy)\n",
            "\n",
            "# Save the model\n",
            "model_file = 'cloud_shape_classifier.pkl'\n",
            "pickle.dump(model, open(model_file, 'wb'))\n",
            "\n",
            "# Load the saved model\n",
            "loaded_model = pickle.load(open(model_file, 'rb'))\n",
            "\n",
            "# Use the model to predict the shape of a new cloud image\n",
            "new_image_data = cv2.imread('new_cloud_image.jpg')\n",
            "new_features = np.array([])\n",
            "for row in new_image_data:\n",
            "    for pixel in row:\n",
            "        new_features = np.append(new_features, pixel)\n",
            "prediction = loaded_model.predict([new_features])\n",
            "print('Predicted shape:', prediction)\n",
            "```\n"
          ]
        }
      ],
      "source": [
        "# Ask the model to adope a persona\n",
        "\n",
        "prompt = \"You are an expert in Python programming, please help me write a program to train a machine learning model to image cloud shapes\"\n",
        "gen_content(prompt)"
      ]
    },
    {
      "cell_type": "code",
      "execution_count": 16,
      "metadata": {
        "id": "bWJki2J5KgeL"
      },
      "outputs": [
        {
          "name": "stdout",
          "output_type": "stream",
          "text": [
            "**Suggestions to Improve Resume for Amazon Senior Software Engineering Role:**\n",
            "\n",
            "**1. Highlight Relevant Skills and Experience:**\n",
            "\n",
            "* Emphasize your expertise in software engineering concepts, languages, and technologies that align with the job description.\n",
            "* Quantify your experience with specific projects, metrics, and results whenever possible.\n",
            "* Use keywords from the job description to ensure your resume is optimized for applicant tracking systems.\n",
            "\n",
            "**2. Showcase Leadership and Initiative:**\n",
            "\n",
            "* Describe any leadership roles or responsibilities you have held in past projects.\n",
            "* Highlight your ability to initiate and execute technical solutions independently.\n",
            "* Provide examples of contributions you have made to innovation or improvement within the engineering team.\n",
            "\n",
            "**3. Quantify Accomplishments:**\n",
            "\n",
            "* Use specific numbers and metrics to demonstrate the impact of your work.\n",
            "* Quantify efficiency improvements, cost savings, or increased productivity as a result of your contributions.\n",
            "* Provide tangible evidence of your technical abilities and the value you bring to the organization.\n",
            "\n",
            "**4. Include a Career Summary:**\n",
            "\n",
            "* Create a clear and concise career summary that outlines your core competencies and goals.\n",
            "* Tailor the summary to the Amazon Senior Software Engineering role, highlighting your experience and qualifications.\n",
            "* Use action verbs and strong adjectives to showcase your skills and achievements.\n",
            "\n",
            "**5. Update Contact Information:**\n",
            "\n",
            "* Ensure your resume includes your current email address, phone number, and LinkedIn profile URL.\n",
            "* Consider adding a professional headshot to make your resume stand out.\n",
            "\n",
            "**6. Review for Typos and Grammar:**\n",
            "\n",
            "* Carefully proofread your resume for any errors in spelling, grammar, or punctuation.\n",
            "* Ask a trusted friend or colleague to review your resume and provide feedback on clarity and professionalism.\n",
            "\n",
            "**7. Consider a Skills Matrix:**\n",
            "\n",
            "* Include a skills matrix at the end of your resume that summarizes your proficiency in relevant software engineering tools, languages, and technologies.\n",
            "* This can provide a quick and easy reference for potential employers to assess your capabilities.\n"
          ]
        }
      ],
      "source": [
        "# Use delimiters to clearly indicate the distinct parts of the input\n",
        "\n",
        "prompt = \"\"\"You are an expert in technical recruiting. Please read the following resume and job description. Give me suggestion on how to improve my resume\n",
        "\n",
        "<job description>\n",
        "Amazon\n",
        "Senior software engineering\n",
        "The candidate should.....\n",
        "\n",
        "</job description>\n",
        "<resume>\n",
        "Ian Chen\n",
        "Software Engineer\n",
        "</resume>\n",
        "\"\"\"\n",
        "gen_content(prompt)"
      ]
    },
    {
      "cell_type": "code",
      "execution_count": null,
      "metadata": {},
      "outputs": [],
      "source": [
        "import getpass\n",
        "\n",
        "import google.generativeai as genai\n",
        "\n",
        "GOOGLE_API_KEY = getpass.getpass()\n",
        "genai.configure(api_key=GOOGLE_API_KEY)"
      ]
    },
    {
      "cell_type": "markdown",
      "metadata": {
        "id": "jx8mUfWYeAyR"
      },
      "source": [
        "#### Include details in your query to get more relevant answers\n",
        "\n",
        "```\n",
        "Summarize the meeting notes.\n",
        "```\n",
        "\n",
        "```\n",
        "Summarize the meeting notes in a single paragraph. Then write a markdown list of the speakers and each of their key points. Finally, list the next steps or action items suggested by the speakers, if any.\n",
        "```\n",
        "\n",
        "#### Ask the model to adopt a persona\n",
        "\n",
        "```\n",
        "You are an expert in Python programming. You have 20 years of programming experience.\n",
        "```\n",
        "\n",
        "#### Use delimiters to clearly indicate distinct parts of the input\n",
        "\n",
        "```\n",
        "Summarize the text delimited by triple quotes with a haiku.\n",
        "\n",
        "\"\"\"insert text here\"\"\"\n",
        "```\n",
        "\n",
        "```\n",
        "You will be provided with a pair of articles (delimited with XML tags) about the same topic. First summarize the arguments of each article. Then indicate which of them makes a better argument and explain why.\n",
        "\n",
        "<article> insert first article here </article>\n",
        "\n",
        "<article> insert second article here </article>\n",
        "```\n",
        "\n",
        "```\n",
        "You will be provided with a thesis abstract and a suggested title for it. The thesis title should give the reader a good idea of the topic of the thesis but should also be eye-catching. If the title does not meet these criteria, suggest 5 alternatives.\n",
        "\n",
        "Abstract: insert abstract here\n",
        "\n",
        "Title: insert title here\n",
        "```\n",
        "\n",
        "#### Specify the steps required to complete a task\n",
        "Some tasks are best specified as a sequence of steps. Writing the steps out explicitly can make it easier for the model to follow them.\n",
        "\n",
        "```\n",
        "Use the following step-by-step instructions to respond to user inputs.\n",
        "\n",
        "Step 1 - The user will provide you with text in triple quotes. Summarize this text in one sentence with a prefix that says \"Summary: \".\n",
        "\n",
        "Step 2 - Translate the summary from Step 1 into Spanish, with a prefix that says \"Translation: \".\n",
        "\n",
        "\"\"\"insert text here\"\"\"\n",
        "```"
      ]
    },
    {
      "cell_type": "code",
      "execution_count": 14,
      "metadata": {
        "id": "EUXai9MwFnP7"
      },
      "outputs": [
        {
          "name": "stdout",
          "output_type": "stream",
          "text": [
            "<Chinese content>\n",
            "作为一个视觉传达者，我希望利用人工智能驱动的工具将图片翻译成说明性文本，以便我能够为演示文稿和出版物创建详细且准确的内容。\n"
          ]
        }
      ],
      "source": [
        "# Include details in your query to get more relevant answers\n",
        "\n",
        "prompt = \"\"\" You are a 20 year professional Translator who can translate english to chinese. Plesase translate following content into chinese:\n",
        "\n",
        "<English content>\n",
        "As a visual communicator, I want to use AI-powered tools to translate images into descriptive texts, so that I can create detailed and accurate content for presentations and publications.\n",
        "\"\"\"\n",
        "\n",
        "gen_content(prompt)\n"
      ]
    },
    {
      "cell_type": "code",
      "execution_count": 17,
      "metadata": {},
      "outputs": [
        {
          "name": "stdout",
          "output_type": "stream",
          "text": [
            "**Dream Interpretation: Snake and Ladder**\n",
            "\n",
            "**Significance of Snake:**\n",
            "\n",
            "* Represents obstacles, challenges, and potential danger.\n",
            "* Can indicate fears, anxieties, or hidden enemies.\n",
            "* May symbolize a shedding of old skin, representing transformation and renewal.\n",
            "\n",
            "**Significance of Ladder:**\n",
            "\n",
            "* Represents progress, achievement, and upward mobility.\n",
            "* Can indicate a desire for success or a goal to work towards.\n",
            "* May symbolize a journey of self-discovery and personal growth.\n",
            "\n",
            "**Interpretation:**\n",
            "\n",
            "The dream of a snake and a ladder suggests that the dreamer is navigating a challenging situation. The snake represents the obstacles they face, while the ladder signifies their desire for progress.\n",
            "\n",
            "**Possible Interpretations:**\n",
            "\n",
            "* The dreamer may be facing a significant obstacle or fear that they need to overcome to achieve their goals.\n",
            "* The ladder may represent the steps the dreamer needs to take to overcome these challenges and reach their desired destination.\n",
            "* Alternatively, the snake may symbolize something toxic in the dreamer's life that is preventing them from moving forward. The ladder, in this case, could represent the path away from this negativity.\n",
            "* The dream could also indicate a period of transformation and renewal, as the snake shedding its skin symbolizes a letting go of the past and embracing new beginnings.\n",
            "\n",
            "**Action Steps for the Dreamer:**\n",
            "\n",
            "* Identify the obstacles or fears represented by the snake.\n",
            "* Create a plan to overcome these challenges.\n",
            "* Set clear goals and take steps towards them, as symbolized by the ladder.\n",
            "* Seek support from trusted individuals or seek professional guidance if needed.\n",
            "* Embrace the possibility of change and transformation, symbolized by the snake shedding its skin.\n"
          ]
        }
      ],
      "source": [
        "# Ask the model to adope a persona\n",
        "\n",
        "prompt = \"You are an expert in interpreting others' dream, please help me interpret a user's dream that about a snake and a ladder.\"\n",
        "gen_content(prompt)"
      ]
    },
    {
      "cell_type": "code",
      "execution_count": 18,
      "metadata": {},
      "outputs": [
        {
          "name": "stdout",
          "output_type": "stream",
          "text": [
            "**Insights:**\n",
            "\n",
            "* **Snake:** Snakes often symbolize deception, fear, or temptation. The snake chasing the user suggests that they may be facing a threat or feeling overwhelmed by negative emotions.\n",
            "\n",
            "* **Ladder:** Ladders represent progress, challenges, and the need for growth. Climbing the ladder indicates that the user may be trying to overcome obstacles or reach a higher level of their potential.\n",
            "\n",
            "* **Anxiety and Fear:** The emotions of anxiety and fear in the dream suggest that the user is feeling stressed or threatened in their waking life.\n",
            "\n",
            "* **Apple:** Apples can symbolize knowledge, temptation, or fertility. The lack of context makes it difficult to determine the specific symbolism in this dream.\n",
            "\n",
            "* **Dark Blue Sky:** The dark blue sky could represent a sense of mystery, introspection, or sadness. It may also indicate that the user is hiding something or feeling overwhelmed by their emotions.\n",
            "\n",
            "**Possible Interpretation:**\n",
            "\n",
            "The dream could suggest that the user is facing a challenge or temptation that is making them feel anxious and overwhelmed. They may be trying to overcome these obstacles and progress towards their goals, but they are feeling fearful and uncertain about the path ahead. The dark blue sky could represent the difficulty or uncertainty they are facing.\n"
          ]
        }
      ],
      "source": [
        "# Use delimiters to clearly indicate the distinct parts of the input\n",
        "\n",
        "prompt = \"\"\"You are an expert in interpreting others' dream. Please read the following dream description. Give me some insights about the dream.\n",
        "\n",
        "<dream description>\n",
        "In the dream, the user saw a snake and a ladder. The snake was chasing the user, and the user was trying to escape by climbing the ladder. \n",
        "The user felt anxious and scared during the dream.\n",
        "\n",
        "\n",
        "<items keep repeating in dream>\n",
        "snake, ladder, apple, dark blue sky\n",
        "\"\"\"\n",
        "gen_content(prompt)"
      ]
    },
    {
      "cell_type": "code",
      "execution_count": 19,
      "metadata": {},
      "outputs": [
        {
          "name": "stdout",
          "output_type": "stream",
          "text": [
            "**English Translation:**\n",
            "\n",
            "* **Exquisite Ingenuity:** A different kind of delicate mindset, indicating the unique, clever ideas in literature and technique.\n",
            "* **As Expected:** Does not exceed expectations, as it was predicted.\n",
            "* **Countless:** Cannot count the number. Describes something as extremely abundant.\n",
            "* **Irreparable:** Refers to the severity of a disease, which cannot be cured. It figuratively describes something as too bad to be saved.\n",
            "* **Inconceivable:** Describes a situation, development, change, or speech that is unimaginable or difficult to understand.\n",
            "\n",
            "**Summary:**\n",
            "\n",
            "* **Exquisite Ingenuity:** Unique and clever ideas in literature and technique.\n",
            "* **As Expected:** Predictable and unsurprising.\n",
            "* **Countless:** Extremely abundant.\n",
            "* **Irreparable:** Too damaged or severe to be fixed.\n",
            "* **Inconceivable:** Impossible to imagine or understand.\n"
          ]
        }
      ],
      "source": [
        "# Specify the steps required to complete a task\n",
        "\n",
        "prompt = \"\"\" Use the following step-by-step instructions to respond to user inputs.\n",
        "step 1 - The user will provide chinese text in triple quotes. Translate this text in English with a prefix that says \"English Translation: \".\n",
        "step 2 - Summarize the English translation from step 1 into bullet points with a prefix that says \"Summary: \".\n",
        "\n",
        "<Chinese text>\n",
        "别具匠心：另有一种巧妙的心思，指在文学和技艺方面有与众不同的巧妙构思。\n",
        "不出所料：没有超出意料之外，原来就预料到的。\n",
        "不计其数:没办法计算数目。形容极多。\n",
        "不可救药:指病情严重到无法医治的程度。比喻坏到无法挽救的地步。\n",
        "不可思议：形容对事物的情况、发展变化或言论不可想象或难以理解。\n",
        "\"\"\"\n",
        "\n",
        "gen_content(prompt)\n"
      ]
    },
    {
      "cell_type": "markdown",
      "metadata": {
        "id": "kIIUoMvr8xPI"
      },
      "source": [
        "### Provide Reference Text\n",
        "\n"
      ]
    },
    {
      "cell_type": "markdown",
      "metadata": {
        "id": "e7iX2DvQedCR"
      },
      "source": [
        "```\n",
        "Use the provided articles delimited by triple quotes to answer questions. If the answer cannot be found in the articles, write \"I could not find an answer.\"\n",
        "\n",
        "<insert articles, each delimited by triple quotes>\n",
        "\n",
        "Question: <insert question here>\n",
        "```\n",
        "\n",
        "#### Answer with citations from a reference text\n",
        "\n",
        "If the input has been supplemented with relevant knowledge, it's straightforward to request that the model add citations to its answers by referencing passages from provided documents. Note that citations in the output can then be verified programmatically by string matching within the provided documents.\n",
        "\n",
        "```\n",
        "You will be provided with a document delimited by triple quotes and a question. Your task is to answer the question using only the provided document and to cite the passage(s) of the document used to answer the question. If the document does not contain the information needed to answer this question then simply write: \"Insufficient information.\" If an answer to the question is provided, it must be annotated with a citation. Use the following format for to cite relevant passages ({\"citation\": …}).\n",
        "\n",
        "\"\"\"<insert document here>\"\"\"\n",
        "\n",
        "Question: <insert question here>\n",
        "```"
      ]
    },
    {
      "cell_type": "markdown",
      "metadata": {
        "id": "fH-L9Sukeh5L"
      },
      "source": [
        "### Split complex tasks into simpler subtasks"
      ]
    },
    {
      "cell_type": "markdown",
      "metadata": {
        "id": "eMp_60TTeuAr"
      },
      "source": [
        "#### Multi-step prompting\n",
        "\n",
        "1. Write a prompt to ask the model to classify the users input\n",
        "1. Based on the ansewr from the model, choose a second prompt to complete the task\n",
        "\n",
        "Example: Customer service chatbot\n",
        "\n",
        "```\n",
        "You are a complaint categorizer. Based on the users input and the following criteria, please output the category of the users inquery.\n",
        "```\n",
        "\n",
        "A: troubleshooting\n",
        "\n",
        "```\n",
        "You are a customer service agent. Please provide helpful instruction to help the user troubleshoot the product.\n",
        "```"
      ]
    },
    {
      "cell_type": "markdown",
      "metadata": {
        "id": "CMi_c4l3fqhE"
      },
      "source": [
        "#### Summarization\n",
        "\n",
        "**Summarize conversations that's too long**\n",
        "\n",
        "LLMs have limited context window lengths. For long conversations that requires context preservation, consider summarize the previous conversation and start new conversation. (GPT-4 16k or 32k)\n",
        "\n",
        "**Chunk long texts then summarize recursively**\n",
        "\n",
        "Chunk longs texts (a book) into reasonably sized tokens (1024, 2048, 4906 tokens, experiemnt with them) then summarize recusively to produce summary of summaries.\n",
        "\n",
        "You can consider running (refine) strategy for summarization"
      ]
    },
    {
      "cell_type": "markdown",
      "metadata": {
        "id": "iBXxrDzzhGMj"
      },
      "source": [
        "### Give model time to think"
      ]
    },
    {
      "cell_type": "code",
      "execution_count": 21,
      "metadata": {
        "colab": {
          "base_uri": "https://localhost:8080/",
          "height": 35
        },
        "id": "dNtIiQP1AbHq",
        "outputId": "c9ff7f59-0620-4bca-90de-d30ddf632b97"
      },
      "outputs": [
        {
          "data": {
            "text/plain": [
              "'\\nRead the following JD and resume, do the following tasks\\n1. Give the strengh and weaknesses of the candidate for this job\\n2. Output \"good fit\" or \"not good fit\"\\n'"
            ]
          },
          "execution_count": 21,
          "metadata": {},
          "output_type": "execute_result"
        }
      ],
      "source": [
        "\"\"\"\n",
        "Read the following JD and resume, do the following tasks\n",
        "1. Output \"good fit\" or \"not good fit\"\n",
        "2. Give the strengh and weaknesses of the candidate for this job\n",
        "\"\"\"\n",
        "\n",
        "\"\"\"\n",
        "Read the following JD and resume, do the following tasks\n",
        "1. Give the strengh and weaknesses of the candidate for this job\n",
        "2. Output \"good fit\" or \"not good fit\"\n",
        "\"\"\""
      ]
    },
    {
      "cell_type": "markdown",
      "metadata": {
        "id": "CSK-_Xj2hIaL"
      },
      "source": [
        "**Chain of thought**\n",
        "\n",
        "The order of output matters.\n",
        "\n",
        "Ask the model to think and layout the strategy first before outputting the final decision.\n",
        "\n",
        "**Inner monologue to hide chain of thoughts**\n",
        "\n",
        "Ask the model to output the intermediate thoughts in a structured format (such as \"\"\" triple quotes) that's easy to parsed in a post procesisng step.\n",
        "\n",
        "**multi step prompting**\n",
        "\n",
        "In a evaluation or reasoning task\n",
        "\n",
        "- Ask the model to perform task on it's own\n",
        "- Evaluate the users input\n",
        "- (Bonus) Ask a different persona to give final verdict"
      ]
    },
    {
      "cell_type": "code",
      "execution_count": 22,
      "metadata": {},
      "outputs": [
        {
          "name": "stdout",
          "output_type": "stream",
          "text": [
            "**Summary:**\n",
            "\n",
            "The provided text discusses the benefits and challenges of implementing mindfulness-based interventions in the workplace. Mindfulness practices involve paying attention to the present moment with a non-judgmental attitude, which can lead to increased awareness, reduced stress, and improved well-being among employees. (\"Mindfulness and the Workplace: A Review of the Literature,\" n.d.)\n",
            "\n",
            "**Benefits of Mindfulness in the Workplace:**\n",
            "\n",
            "* Reduced stress and anxiety (Shapiro et al., 2005)\n",
            "* Improved attention and focus (Smallwood, 2010)\n",
            "* Increased emotional regulation and empathy (Goleman, 2006)\n",
            "* Enhanced creativity and innovation (Kaufman & Gregoire, 2009)\n",
            "\n",
            "**Challenges of Implementing Mindfulness in the Workplace:**\n",
            "\n",
            "* Lack of organizational support and buy-in\n",
            "* Time and resource constraints\n",
            "* Difficulty integrating mindfulness practices into daily work routines\n",
            "* Resistance from employees who may perceive mindfulness as a distraction (\"Mindfulness and the Workplace: A Review of the Literature,\" n.d.)\n",
            "\n",
            "**Conclusion:**\n",
            "\n",
            "Mindfulness-based interventions can offer significant benefits in the workplace, including improved well-being, increased productivity, and enhanced leadership skills. However, successful implementation requires organizational support, time commitment, and a willingness from employees to embrace mindfulness practices. (\"Mindfulness and the Workplace: A Review of the Literature,\" n.d.)\n",
            "\n",
            "**Citations:**\n",
            "\n",
            "* Goleman, D. (2006). Emotional intelligence. New York, NY: Bantam Books.\n",
            "* Kaufman, S. B., & Gregoire, C. (2009). Wired to create: Unraveling the secrets of the creative brain. New York, NY: Viking Books.\n",
            "* Mindfulness and the Workplace: A Review of the Literature. (n.d.). Retrieved from https://positivepsychology.com/mindfulness-workplace/\n",
            "* Shapiro, S. L., Carlson, L. E., McCubbin, J. A., Adler-Baeder, F., Bishop, S. R., Bordofsky, D., & Penman, D. (2005). Mindfulness-based stress reduction for healthcare professionals: A systematic review and meta-analysis. Journal of the American Medical Association, 293(14), 1820-1832.\n",
            "* Smallwood, J. (2010). Mind-wandering and attention control. In M. M. Baer, J. G. Rosch, & E. F. Carson (Eds.), Handbook of human factors in information design, safety, usability, and human performance (pp. 111-144). New York, NY: CRC Press.\n"
          ]
        }
      ],
      "source": [
        "prompt_template = \"\"\"You are an expert dream explainer, please explain the following dream：\n",
        "\n",
        "<dream>I dream of a fish</dream>\n",
        "\"\"\"\n",
        "\n",
        "gen_content(prompt)"
      ]
    },
    {
      "cell_type": "code",
      "execution_count": 23,
      "metadata": {},
      "outputs": [
        {
          "name": "stdout",
          "output_type": "stream",
          "text": [
            "**Day 1**\n",
            "\n",
            "* Arrive at Suvarnabhumi International Airport (BKK) and transfer to your hotel in Bangkok.\n",
            "* Check in to the luxury Peninsula Bangkok ($250/night for 2 nights).\n",
            "* After settling in, explore the vibrant Khao San Road, known for its street food, bars, and nightlife.\n",
            "* Enjoy a traditional Thai dinner at Issaya Siamese Club while soaking up the lively atmosphere ($100).\n",
            "\n",
            "**Day 2**\n",
            "\n",
            "* Visit the Grand Palace, the former royal residence, and marvel at its stunning architecture ($50).\n",
            "* Take a boat tour along the Chao Phraya River to experience Bangkok's unique canals ($20).\n",
            "* Sample authentic local cuisine at Jay Fai, known for its Michelin-starred street food ($80).\n",
            "\n",
            "**Day 3**\n",
            "\n",
            "* Fly to Phuket, Thailand's largest island ($150 round-trip).\n",
            "* Check in to the upscale Angsana Laguna Phuket ($200/night for 2 nights).\n",
            "* Spend the afternoon relaxing on Patong Beach, known for its crystal-clear waters and white sands.\n",
            "\n",
            "**Day 4**\n",
            "\n",
            "* Explore the beautiful Phang Nga Bay on a day trip ($120).\n",
            "* Visit the iconic James Bond Island and swim in the pristine emerald waters.\n",
            "* Enjoy a romantic dinner at the enchanting Sunset Grill with panoramic ocean views ($150).\n",
            "\n",
            "**Day 5**\n",
            "\n",
            "* Depart from Phuket (HKT) and return home.\n",
            "\n",
            "**Budget Breakdown:**\n",
            "\n",
            "* Accommodation: $1200\n",
            "* Flights: $150\n",
            "* Activities and Tours: $290\n",
            "* Food and Drinks: $420\n",
            "* Contingency Fund: $100\n",
            "* **Total:** $2160\n",
            "\n",
            "**Additional Tips:**\n",
            "\n",
            "* Book flights and accommodation in advance to secure the best rates.\n",
            "* Purchase a Thai SIM card for convenient communication.\n",
            "* Carry cash as some local businesses may not accept cards.\n",
            "* Be prepared for hot and humid weather, and pack light, breathable clothing.\n",
            "* Respect local customs and avoid offensive behavior.\n"
          ]
        }
      ],
      "source": [
        "# inner monologue to hide chain of thoughts\n",
        "prompt = \"\"\"You are an expert at travel planning, please give me a detailed travel plan according to the following instructions：\n",
        "- Destination: Thailand\n",
        "- Days: 5 days\n",
        "- Budget: $5000\n",
        "- Interests: Beach, Food, Bars\n",
        "\"\"\"\n",
        "\n",
        "gen_content(prompt)"
      ]
    },
    {
      "cell_type": "markdown",
      "metadata": {
        "id": "L07wK_6-iMZT"
      },
      "source": [
        "### User External Tools"
      ]
    },
    {
      "cell_type": "markdown",
      "metadata": {
        "id": "Xf9n2ZeiiOwZ"
      },
      "source": [
        "**Search for relevent information and inject into context**\n",
        "\n",
        "- Vector searching using embeddings\n",
        "- Google search\n",
        "\n",
        "**Ask model to generate code**\n",
        "\n",
        "```\n",
        "You can write and execute Python code by enclosing it in triple backticks, e.g. ```code goes here```. Use this to perform calculations.\n",
        "\n",
        "Find all real-valued roots of the following polynomial: 3*x**5 - 5*x**4 - 3*x**3 - 7*x - 10.\n",
        "```\n",
        "\n",
        "```\n",
        "You can write and execute Python code by enclosing it in triple backticks. Also note that you have access to the following module to help users send messages to their friends:\n",
        "\n",
        "```python\n",
        "import message\n",
        "message.write(to=\"John\", message=\"Hey, want to meetup after work?\")```\n",
        "```\n",
        "\n",
        "It's dangerous to run model generated code without sandboxing.\n",
        "\n",
        "Consider using [function calling](https://platform.openai.com/docs/guides/function-calling) instead"
      ]
    },
    {
      "cell_type": "code",
      "execution_count": 24,
      "metadata": {
        "colab": {
          "base_uri": "https://localhost:8080/",
          "height": 35
        },
        "id": "ShI_lWD3DINW",
        "outputId": "186bbb16-48ea-4752-e8c0-186105abb2b8"
      },
      "outputs": [
        {
          "data": {
            "text/plain": [
              "'\\nget_weather(\"Seattle\")\\n'"
            ]
          },
          "execution_count": 24,
          "metadata": {},
          "output_type": "execute_result"
        }
      ],
      "source": [
        "\"\"\"\n",
        "def get_weather(location_name):\n",
        "    weather = requests.get(location_name)\n",
        "    return weather\n",
        "\"\"\"\n",
        "\n",
        "\"\"\"\n",
        "You have access to this function, here is the function definition\n",
        "\n",
        "{\n",
        "    \"function_name\": \"get_weather\",\n",
        "    \"arguments: [\n",
        "        \"location_name\": \"this is the name of the location to search for the weather\"\n",
        "    ]\n",
        "}\n",
        "\n",
        "Questions: What is the weather in Seattle?\n",
        "\"\"\"\n",
        "\n",
        "\"\"\"\n",
        "get_weather(\"Seattle\")\n",
        "\"\"\""
      ]
    },
    {
      "cell_type": "markdown",
      "metadata": {
        "id": "RA64OmGW6LEL"
      },
      "source": [
        "# References\n",
        "\n",
        "## Documents\n",
        "\n",
        "- [Steven Wolfram's intro to LLM](https://writings.stephenwolfram.com/2023/02/what-is-chatgpt-doing-and-why-does-it-work/)\n",
        "- [Mistral AI docs](https://docs.mistral.ai/guides/resources/)\n",
        "- [OpenAI Prompt Engineering](https://platform.openai.com/examples)\n",
        "- [Elastic's intro to LLM](https://www.elastic.co/what-is/large-language-models)\n",
        "\n",
        "## Youtube\n",
        "\n",
        "- [Awesome talk by Andrej Karpathy](https://youtu.be/zjkBMFhNj_g?si=wPxLgMJ2D-CZsQvv)\n",
        "- [Large Language Models](https://www.youtube.com/watch?v=YDiSFS-yHwk)\n",
        "\n",
        "## Colab Notebooks\n",
        "\n",
        "- https://colab.research.google.com/drive/1uQABWrbU17DwLQdDZ8k5d_UJVlrAkwZ5?usp=sharing\n",
        "\n",
        "## GitHub\n",
        "\n",
        "- https://github.com/mlabonne/llm-course\n",
        "\n",
        "- https://github.com/datainsightat/introduction_llm\n",
        "\n",
        "- https://github.com/Ryota-Kawamura/Generative-AI-with-LLMs/tree/main\n",
        "\n",
        "- https://github.com/sinanuozdemir/oreilly-hands-on-transformers\n",
        "\n",
        "- https://github.com/gkamradt/langchain-tutorials\n",
        "\n",
        "- https://github.com/openai/openai-cookbook\n",
        "\n",
        "- https://github.com/dair-ai/Prompt-Engineering-Guide\n",
        "\n",
        "- https://github.com/ksm26/chatGPT-Prompt-Engineering-for-Developers\n",
        "\n",
        "- https://github.com/kevinamiri/Instructgpt-prompts\n",
        "\n",
        "- https://github.com/promptslab/Promptify\n",
        "\n",
        "- https://github.com/dair-ai/Prompt-Engineering-Guide\n",
        "\n",
        "## Papers\n",
        "\n",
        "- [Attention is all you need](https://arxiv.org/abs/1706.03762)\n",
        "- [FINETUNED LANGUAGE MODELS ARE ZERO-SHOT LEARNERS](https://openreview.net/pdf?id=gEZrGCozdqR)\n",
        "- [Language Models are Few-Shot Learners](https://arxiv.org/pdf/2005.14165)"
      ]
    },
    {
      "cell_type": "code",
      "execution_count": null,
      "metadata": {
        "id": "eHpT2dBBj0Zl"
      },
      "outputs": [],
      "source": []
    }
  ],
  "metadata": {
    "colab": {
      "collapsed_sections": [
        "kIIUoMvr8xPI",
        "fH-L9Sukeh5L"
      ],
      "provenance": []
    },
    "kernelspec": {
      "display_name": "Python 3",
      "name": "python3"
    },
    "language_info": {
      "codemirror_mode": {
        "name": "ipython",
        "version": 3
      },
      "file_extension": ".py",
      "mimetype": "text/x-python",
      "name": "python",
      "nbconvert_exporter": "python",
      "pygments_lexer": "ipython3",
      "version": "3.11.5"
    }
  },
  "nbformat": 4,
  "nbformat_minor": 0
}
